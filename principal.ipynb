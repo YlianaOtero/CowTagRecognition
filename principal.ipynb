{
 "cells": [
  {
   "cell_type": "markdown",
   "metadata": {},
   "source": [
    "Reconocimiento de digitos en las caravanas de las vacas:"
   ]
  },
  {
   "cell_type": "markdown",
   "metadata": {},
   "source": [
    "Importar librerias:"
   ]
  },
  {
   "cell_type": "code",
   "execution_count": 1,
   "metadata": {},
   "outputs": [],
   "source": [
    "\n",
    "import numpy as np\n",
    "import argparse\n",
    "import imutils\n",
    "from imutils import contours\n",
    "import cv2\n",
    "import pandas as pd\n",
    "import ipywidgets as widgets\n",
    "import os\n",
    "import sys\n",
    "import skimage.io\n",
    "import scipy\n",
    "import json\n",
    "import matplotlib as plt\n",
    "from PIL import Image\n"
   ]
  },
  {
   "cell_type": "markdown",
   "metadata": {},
   "source": [
    "Construir el parseo de argumentos:"
   ]
  },
  {
   "cell_type": "code",
   "execution_count": 2,
   "metadata": {},
   "outputs": [
    {
     "data": {
      "text/plain": [
       "_StoreAction(option_strings=['-r', '--reference'], dest='reference', nargs=None, const=None, default=None, type=None, choices=None, help='path a la imagen de referencia', metavar=None)"
      ]
     },
     "execution_count": 2,
     "metadata": {},
     "output_type": "execute_result"
    }
   ],
   "source": [
    "ap = argparse.ArgumentParser() \n",
    "ap.add_argument(\"-i\", \"--image\", required=True, help=\"path de la imagen que ingresa\") #--image es el path de la imagen que quiero reconocer con OCR.\n",
    "ap.add_argument(\"-r\", \"--reference\", required=True, help=\"path a la imagen de referencia\") #--reference es el path a la imagen que tiene los digitos 0-9 ."
   ]
  },
  {
   "cell_type": "code",
   "execution_count": 3,
   "metadata": {},
   "outputs": [],
   "source": [
    "# with open(\"C:\\\\Users\\\\Equipo\\\\Desktop\\\\Proj\\\\OCR\\\\json_config.json\") as f:\n",
    "#    json_conf = json.load(f)"
   ]
  },
  {
   "cell_type": "code",
   "execution_count": 90,
   "metadata": {},
   "outputs": [],
   "source": [
    "ejemplo = os.path.abspath('C:\\\\Users\\\\Equipo\\\\Desktop\\\\Vacas\\\\Tags\\\\Train\\\\5044.png')\n",
    "reference = os.path.abspath('C:\\\\Users\\\\Equipo\\\\Desktop\\\\Vacas\\\\referencea.png') #la imagen de referencia contiene digitos de 0 al 9 en arial black\n"
   ]
  },
  {
   "cell_type": "code",
   "execution_count": 91,
   "metadata": {},
   "outputs": [],
   "source": [
    "# args = vars(ap.parse_args()) #parsea los argumentos (imagen y referencia), y los guarda en args."
   ]
  },
  {
   "cell_type": "markdown",
   "metadata": {},
   "source": [
    "Extraer los digitos de la imagen de referencia y hallar su contorno:"
   ]
  },
  {
   "cell_type": "code",
   "execution_count": 92,
   "metadata": {},
   "outputs": [
    {
     "data": {
      "text/plain": [
       "True"
      ]
     },
     "execution_count": 92,
     "metadata": {},
     "output_type": "execute_result"
    }
   ],
   "source": [
    "ref = cv2.imread(reference) #cargar la imagen de referencia con los digitos en Arial Black\n",
    "ref = cv2.cvtColor(ref, cv2.COLOR_BGR2GRAY) #transforma el color de la foto a escala de grises\n",
    "ref = cv2.threshold(ref, 10, 255, cv2.THRESH_BINARY)[1] #hago thresholding para segmentar la imagen en lo que me interesa\n",
    "cv2.imwrite('ref.jpg',ref)"
   ]
  },
  {
   "cell_type": "code",
   "execution_count": 93,
   "metadata": {},
   "outputs": [],
   "source": [
    "\n",
    "refConts = cv2.findContours(ref.copy(), cv2.RETR_EXTERNAL, cv2.CHAIN_APPROX_SIMPLE) #guardo el contorno de los digitos en la imagen de referencia para hacer analisis luego\n",
    "#RETR_EXTERNAL metodo que devuelve solo los contornos de los extremos exteriores\n",
    "#CHAIN_APPROX_SIMPLE metodo que devuelve solo los endpoints necesarios para dibujar el contorno\n",
    "refConts = imutils.grab_contours(refConts) #recorre el contorno y devuelve el num de pixeles\n",
    "refConts = contours.sort_contours(refConts, method=\"left-to-right\")[0] #ordena los contornos\n",
    "digits = {}"
   ]
  },
  {
   "cell_type": "code",
   "execution_count": 94,
   "metadata": {},
   "outputs": [
    {
     "data": {
      "text/plain": [
       "(array([[[  0,   0]],\n",
       " \n",
       "        [[  0, 119]],\n",
       " \n",
       "        [[699, 119]],\n",
       " \n",
       "        [[699,   0]]], dtype=int32),)"
      ]
     },
     "execution_count": 94,
     "metadata": {},
     "output_type": "execute_result"
    }
   ],
   "source": [
    "refConts"
   ]
  },
  {
   "cell_type": "markdown",
   "metadata": {},
   "source": [
    "Extraigo los digitos de la imagen de referencia y los asocio con cada region de interest (ROI):"
   ]
  },
  {
   "cell_type": "code",
   "execution_count": 95,
   "metadata": {},
   "outputs": [],
   "source": [
    "# itero en cada digito de la imagen de referencia\n",
    "for (i, c) in enumerate(refConts): #i es el digito, c es el contorno\n",
    "\t# computar la bounding box para el digito, extraerlo y redimensionarlo a un tamaño fijo\n",
    "\t(x, y, w, h) = cv2.boundingRect(c)\n",
    "\troi = ref[y:y + h, x:x + w] #roi es region of interest\n",
    "\troi = cv2.resize(roi, (57, 88))\n",
    "\t# actualizar el diccionario de digitos, mapeando el nombre del digito a la region de interes\n",
    "\tdigits[i] = roi"
   ]
  },
  {
   "cell_type": "code",
   "execution_count": 96,
   "metadata": {},
   "outputs": [],
   "source": [
    "# para estructurar el kernel, inicializar un rectangulo de mayor ancho que alto, y un cuadrado\n",
    "rectKernel = cv2.getStructuringElement(cv2.MORPH_RECT, (9, 3))\n",
    "sqKernel = cv2.getStructuringElement(cv2.MORPH_RECT, (5, 5))"
   ]
  },
  {
   "cell_type": "markdown",
   "metadata": {},
   "source": [
    "Aislar cada uno de los cuatro digitos en la tag que paso como input image:"
   ]
  },
  {
   "cell_type": "code",
   "execution_count": 97,
   "metadata": {},
   "outputs": [],
   "source": [
    "# subir la input image, redimensionarla y aplicarle un grayscale\n",
    "image = cv2.imread(ejemplo) #ARREGLAR CUANDO ENTIENDA LA CELDA 13: ESTO TIENE QUE SER args[\"image\"]\n",
    "image = imutils.resize(image, width=300)\n",
    "gray = cv2.cvtColor(image, cv2.COLOR_BGR2GRAY)"
   ]
  },
  {
   "cell_type": "code",
   "execution_count": 98,
   "metadata": {},
   "outputs": [
    {
     "data": {
      "text/plain": [
       "array([[[27, 26, 24],\n",
       "        [27, 26, 24],\n",
       "        [27, 26, 24],\n",
       "        ...,\n",
       "        [37, 36, 33],\n",
       "        [37, 36, 33],\n",
       "        [37, 36, 33]],\n",
       "\n",
       "       [[27, 26, 24],\n",
       "        [27, 26, 24],\n",
       "        [27, 26, 24],\n",
       "        ...,\n",
       "        [37, 36, 33],\n",
       "        [37, 36, 33],\n",
       "        [37, 36, 33]],\n",
       "\n",
       "       [[27, 26, 24],\n",
       "        [27, 26, 24],\n",
       "        [27, 26, 24],\n",
       "        ...,\n",
       "        [37, 36, 33],\n",
       "        [37, 36, 33],\n",
       "        [37, 36, 33]],\n",
       "\n",
       "       ...,\n",
       "\n",
       "       [[37, 36, 33],\n",
       "        [37, 36, 33],\n",
       "        [37, 36, 33],\n",
       "        ...,\n",
       "        [27, 26, 24],\n",
       "        [27, 26, 24],\n",
       "        [27, 26, 24]],\n",
       "\n",
       "       [[37, 36, 33],\n",
       "        [37, 36, 33],\n",
       "        [37, 36, 33],\n",
       "        ...,\n",
       "        [27, 26, 24],\n",
       "        [27, 26, 24],\n",
       "        [27, 26, 24]],\n",
       "\n",
       "       [[37, 36, 33],\n",
       "        [37, 36, 33],\n",
       "        [37, 36, 33],\n",
       "        ...,\n",
       "        [27, 26, 24],\n",
       "        [27, 26, 24],\n",
       "        [27, 26, 24]]], dtype=uint8)"
      ]
     },
     "execution_count": 98,
     "metadata": {},
     "output_type": "execute_result"
    }
   ],
   "source": [
    "image"
   ]
  },
  {
   "cell_type": "code",
   "execution_count": 99,
   "metadata": {},
   "outputs": [
    {
     "data": {
      "text/plain": [
       "True"
      ]
     },
     "execution_count": 99,
     "metadata": {},
     "output_type": "execute_result"
    }
   ],
   "source": [
    "close = cv2.morphologyEx(gray, cv2.MORPH_CLOSE, rectKernel)\n",
    "cv2.imwrite('close.png', close)\n",
    "#remueve pixeles de fondo que matchean la estructura del elemento. Sirve para cerrar huecos en la imagen.\n"
   ]
  },
  {
   "cell_type": "code",
   "execution_count": 100,
   "metadata": {},
   "outputs": [
    {
     "data": {
      "text/plain": [
       "True"
      ]
     },
     "execution_count": 100,
     "metadata": {},
     "output_type": "execute_result"
    }
   ],
   "source": [
    "# calculo el gradiente de Scharr en la imagen con la op. morfologica, y escalo lo demas al rango [0, 255]\n",
    "gradX = cv2.Sobel(close, ddepth=cv2.CV_32F, dx=1, dy=0, ksize=-1)\n",
    "gradX = np.absolute(gradX)\n",
    "(minVal, maxVal) = (np.min(gradX), np.max(gradX))\n",
    "gradX = (255 * ((gradX - minVal) / (maxVal - minVal)))\n",
    "gradX = gradX.astype(\"uint8\") #porque uint8 tiene un rango de [0, 255]\n",
    "cv2.imwrite('GradX1.png', gradX)"
   ]
  },
  {
   "cell_type": "code",
   "execution_count": 101,
   "metadata": {},
   "outputs": [
    {
     "data": {
      "text/plain": [
       "True"
      ]
     },
     "execution_count": 101,
     "metadata": {},
     "output_type": "execute_result"
    }
   ],
   "source": [
    "gradX = cv2.morphologyEx(gradX, cv2.MORPH_CLOSE, rectKernel)\n",
    "thresh = cv2.threshold(gradX, 0, 255,\n",
    "\tcv2.THRESH_BINARY | cv2.THRESH_OTSU)[1]\n",
    "# aplico otra closing operation en la imagen binaria para ayudar a cerrar huecos en la imagen\n",
    "thresh = cv2.morphologyEx(thresh, cv2.MORPH_CLOSE, sqKernel)\n",
    "cv2.imwrite('thresh.png', thresh)"
   ]
  },
  {
   "cell_type": "code",
   "execution_count": 102,
   "metadata": {},
   "outputs": [],
   "source": [
    "cnts = cv2.findContours(thresh.copy(), cv2.RETR_EXTERNAL, cv2.CHAIN_APPROX_SIMPLE) #busco los contornos de los digitos\n",
    "cnts = imutils.grab_contours(cnts) #los guardo en una lista\n",
    "locs = [] #inicializar la lista con la ubicacion de cada digito"
   ]
  },
  {
   "cell_type": "code",
   "execution_count": 103,
   "metadata": {},
   "outputs": [],
   "source": [
    "for (i, c) in enumerate(cnts): #itero a traves de los contornos\n",
    "    (x, y, w, h) = cv2.boundingRect(c) #calculo el bounding box de los contornos\n",
    "    ar = w / float(h) #ar es el aspect ratio\n",
    "    if ar > 2.5 and ar < 4.0: #esto implicaria que la bb contiene una imagen mas ancha que alta\n",
    "            if (w > 135 and w < 145) and  (h > 45 and h < 55):\n",
    "                locs.append((x, y, w, h))"
   ]
  },
  {
   "cell_type": "code",
   "execution_count": 104,
   "metadata": {},
   "outputs": [],
   "source": [
    "locs = sorted(locs, key=lambda x:x[0]) #ordeno los digitos de izq a der\n",
    "output = [] #inicializo la lista de digitos clasificados"
   ]
  },
  {
   "cell_type": "code",
   "execution_count": 105,
   "metadata": {},
   "outputs": [],
   "source": [
    "groupOutput = [] #inicizalizo una lista vacia para los outputs de mi grupo de digitos\n",
    "group = gray[y:y + h, x:x + w]\n",
    "group = cv2.threshold(group, 0, 255, cv2.THRESH_BINARY | cv2.THRESH_OTSU)[1]"
   ]
  },
  {
   "cell_type": "code",
   "execution_count": 106,
   "metadata": {},
   "outputs": [
    {
     "name": "stdout",
     "output_type": "stream",
     "text": [
      "[[  0   0   0 ...   0   0   0]\n",
      " [  0   0   0 ... 255 255   0]\n",
      " [  0   0   0 ... 255 255   0]\n",
      " ...\n",
      " [  0   0   0 ... 255 255   0]\n",
      " [  0 255 255 ... 255 255   0]\n",
      " [  0 255 255 ... 255 255 255]]\n"
     ]
    }
   ],
   "source": [
    "print(group)"
   ]
  },
  {
   "cell_type": "code",
   "execution_count": 107,
   "metadata": {},
   "outputs": [],
   "source": [
    "digitCnts = cv2.findContours(group.copy(), cv2.RETR_EXTERNAL, cv2.CHAIN_APPROX_SIMPLE) #encuentro los contornos del grupo de digitos\n",
    "digitCnts = imutils.grab_contours(digitCnts)\n",
    "digitCnts = contours.sort_contours(digitCnts, method=\"left-to-right\")[0] #ordeno los contornos de izquierda a derecha"
   ]
  },
  {
   "cell_type": "code",
   "execution_count": 113,
   "metadata": {},
   "outputs": [],
   "source": [
    "for c in digitCnts:\n",
    "    (x, y, w, h) = cv2.boundingRect(c) #armar la bounding box del digito individual\n",
    "    roi = group[y:y + h, x:x + w]\n",
    "    roi = cv2.resize(roi, (57, 88)) #ajusto el tamaño para que matchee el tamaño de los digitos de referencia\n",
    "    scores = []\n",
    "    for (digit, digitROI) in digits.items(): #aplico un correlation-based matching template para ver con que digito de la referencia matchea cada digito de la input image\n",
    "                result = cv2.matchTemplate(roi, digitROI, cv2.TM_CCOEFF)\n",
    "                (_, score, _, _) = cv2.minMaxLoc(result) \n",
    "                scores.append(score)\n",
    "    groupOutput.append(str(np.argmax(scores)))# me voy a quedar con el digito que tenga la mayor puntuacion"
   ]
  },
  {
   "cell_type": "markdown",
   "metadata": {},
   "source": [
    "La identificacion de veritas:"
   ]
  },
  {
   "cell_type": "code",
   "execution_count": 114,
   "metadata": {},
   "outputs": [],
   "source": [
    "# para dibujar la clasificacion de cada digito:\n",
    "cv2.rectangle(thresh, (x - 5, y - 5),\n",
    "\t(x + w + 5, y + h + 5), (0, 0, 255), 2)\n",
    "cv2.putText(thresh, \"\".join(groupOutput), (x, y - 15),\n",
    "cv2.FONT_HERSHEY_SIMPLEX, 0.65, (0, 0, 255), 2)\n",
    "\t# actualizamos la lista con el output de los numeros predecidos\n",
    "output.extend(groupOutput)"
   ]
  },
  {
   "cell_type": "code",
   "execution_count": 115,
   "metadata": {},
   "outputs": [
    {
     "data": {
      "text/plain": [
       "['0',\n",
       " '0',\n",
       " '0',\n",
       " '0',\n",
       " '0',\n",
       " '0',\n",
       " '0',\n",
       " '0',\n",
       " '0',\n",
       " '0',\n",
       " '0',\n",
       " '0',\n",
       " '0',\n",
       " '0',\n",
       " '0',\n",
       " '0',\n",
       " '0',\n",
       " '0']"
      ]
     },
     "execution_count": 115,
     "metadata": {},
     "output_type": "execute_result"
    }
   ],
   "source": [
    "groupOutput"
   ]
  },
  {
   "cell_type": "code",
   "execution_count": null,
   "metadata": {},
   "outputs": [],
   "source": []
  }
 ],
 "metadata": {
  "interpreter": {
   "hash": "fb439ce994c19c1d19ef86c852b871f813cdaff74a091bb54cc655b41df98c63"
  },
  "kernelspec": {
   "display_name": "Python 3.10.2 64-bit",
   "language": "python",
   "name": "python3"
  },
  "language_info": {
   "codemirror_mode": {
    "name": "ipython",
    "version": 3
   },
   "file_extension": ".py",
   "mimetype": "text/x-python",
   "name": "python",
   "nbconvert_exporter": "python",
   "pygments_lexer": "ipython3",
   "version": "3.10.2"
  },
  "orig_nbformat": 4
 },
 "nbformat": 4,
 "nbformat_minor": 2
}
